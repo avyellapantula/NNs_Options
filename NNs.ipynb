{
 "cells": [
  {
   "cell_type": "markdown",
   "metadata": {},
   "source": [
    "# Options Chain Predictions"
   ]
  },
  {
   "cell_type": "code",
   "execution_count": 1,
   "metadata": {},
   "outputs": [],
   "source": [
    "# !pip install tensorflow\n",
    "# !pip install keras\n",
    "# !pip install yfinance"
   ]
  },
  {
   "cell_type": "code",
   "execution_count": 2,
   "metadata": {},
   "outputs": [],
   "source": [
    "# libs\n",
    "import pandas as pd\n",
    "import numpy as np\n",
    "import matplotlib.pyplot as plt\n",
    "%matplotlib inline\n",
    "import seaborn as sns\n",
    "import yfinance as yf\n",
    "import datetime\n",
    "from math import *\n",
    "from statistics import *\n",
    "# import numpy as np\n",
    "from scipy.stats import norm"
   ]
  },
  {
   "cell_type": "code",
   "execution_count": 3,
   "metadata": {},
   "outputs": [
    {
     "data": {
      "text/plain": [
       "'\\nNeed table for:\\n    Stock Price\\n    Strike Price\\n    Maturity\\n    Volatility\\n    Risk-Free\\n    Call Price\\n'"
      ]
     },
     "execution_count": 3,
     "metadata": {},
     "output_type": "execute_result"
    }
   ],
   "source": [
    "'''\n",
    "Need table for:\n",
    "    Stock Price\n",
    "    Strike Price\n",
    "    Maturity\n",
    "    Volatility\n",
    "    Risk-Free\n",
    "    Call Price\n",
    "'''\n"
   ]
  },
  {
   "cell_type": "code",
   "execution_count": 4,
   "metadata": {},
   "outputs": [],
   "source": [
    "def options_chain(symbol):\n",
    "\n",
    "    tk = yf.Ticker(symbol)\n",
    "    # Expiration dates\n",
    "    exps = tk.options\n",
    "\n",
    "    # Get options for each expiration\n",
    "    options = pd.DataFrame()\n",
    "    for e in exps:\n",
    "        opt = tk.option_chain(e)\n",
    "        opt = pd.DataFrame().append(opt.calls)\n",
    "#         .append(opt.puts)\n",
    "        opt['expirationDate'] = e\n",
    "        options = options.append(opt, ignore_index=True)\n",
    "\n",
    "    # Bizarre error in yfinance that gives the wrong expiration date\n",
    "    # Add 1 day to get the correct expiration date\n",
    "    options['expirationDate'] = pd.to_datetime(options['expirationDate']) + datetime.timedelta(days = 1)\n",
    "    options['dte'] = (options['expirationDate'] - datetime.datetime.today()).dt.days\n",
    "#     / 365\n",
    "    \n",
    "#     # Boolean column if the option is a CALL\n",
    "#     options['CALL'] = options['contractSymbol'].str[4:].apply(\n",
    "#         lambda x: \"C\" in x)\n",
    "    \n",
    "    options[['bid', 'ask', 'strike']] = options[['bid', 'ask', 'strike']].apply(pd.to_numeric)\n",
    "    options['midpt'] = (options['bid'] + options['ask']) / 2 # Calculate the midpoint of the bid-ask\n",
    "    \n",
    "    # Drop unnecessary and meaningless columns\n",
    "    options = options.drop(columns = ['volume','openInterest','inTheMoney','contractSize', 'currency', 'change', 'percentChange', 'lastTradeDate'])\n",
    "\n",
    "    return options"
   ]
  },
  {
   "cell_type": "code",
   "execution_count": 5,
   "metadata": {},
   "outputs": [],
   "source": [
    "tckstock='MSFT'\n",
    "opt = options_chain(tckstock)"
   ]
  },
  {
   "cell_type": "code",
   "execution_count": 6,
   "metadata": {},
   "outputs": [],
   "source": [
    "sttck = yf.Ticker(tckstock)\n",
    "# sttck.info\n",
    "# 37,734.562 current price\n",
    "# tckstock.info\n",
    "stck_pr = 219.62\n",
    "r = 0.09"
   ]
  },
  {
   "cell_type": "code",
   "execution_count": 7,
   "metadata": {},
   "outputs": [
    {
     "data": {
      "text/plain": [
       "745"
      ]
     },
     "execution_count": 7,
     "metadata": {},
     "output_type": "execute_result"
    }
   ],
   "source": [
    "len(opt)"
   ]
  },
  {
   "cell_type": "code",
   "execution_count": 8,
   "metadata": {},
   "outputs": [],
   "source": [
    "opt.to_csv('options_chain.csv')"
   ]
  },
  {
   "cell_type": "code",
   "execution_count": 9,
   "metadata": {},
   "outputs": [
    {
     "data": {
      "text/html": [
       "<div>\n",
       "<style scoped>\n",
       "    .dataframe tbody tr th:only-of-type {\n",
       "        vertical-align: middle;\n",
       "    }\n",
       "\n",
       "    .dataframe tbody tr th {\n",
       "        vertical-align: top;\n",
       "    }\n",
       "\n",
       "    .dataframe thead th {\n",
       "        text-align: right;\n",
       "    }\n",
       "</style>\n",
       "<table border=\"1\" class=\"dataframe\">\n",
       "  <thead>\n",
       "    <tr style=\"text-align: right;\">\n",
       "      <th></th>\n",
       "      <th>contractSymbol</th>\n",
       "      <th>strike</th>\n",
       "      <th>lastPrice</th>\n",
       "      <th>bid</th>\n",
       "      <th>ask</th>\n",
       "      <th>impliedVolatility</th>\n",
       "      <th>expirationDate</th>\n",
       "      <th>dte</th>\n",
       "      <th>midpt</th>\n",
       "    </tr>\n",
       "  </thead>\n",
       "  <tbody>\n",
       "    <tr>\n",
       "      <th>0</th>\n",
       "      <td>MSFT210115C00050000</td>\n",
       "      <td>50.0</td>\n",
       "      <td>168.05</td>\n",
       "      <td>168.05</td>\n",
       "      <td>168.25</td>\n",
       "      <td>4.484379</td>\n",
       "      <td>2021-01-16</td>\n",
       "      <td>4</td>\n",
       "      <td>168.150</td>\n",
       "    </tr>\n",
       "    <tr>\n",
       "      <th>1</th>\n",
       "      <td>MSFT210115C00055000</td>\n",
       "      <td>55.0</td>\n",
       "      <td>168.35</td>\n",
       "      <td>163.05</td>\n",
       "      <td>163.25</td>\n",
       "      <td>4.203130</td>\n",
       "      <td>2021-01-16</td>\n",
       "      <td>4</td>\n",
       "      <td>163.150</td>\n",
       "    </tr>\n",
       "    <tr>\n",
       "      <th>2</th>\n",
       "      <td>MSFT210115C00060000</td>\n",
       "      <td>60.0</td>\n",
       "      <td>157.18</td>\n",
       "      <td>158.05</td>\n",
       "      <td>158.25</td>\n",
       "      <td>3.937500</td>\n",
       "      <td>2021-01-16</td>\n",
       "      <td>4</td>\n",
       "      <td>158.150</td>\n",
       "    </tr>\n",
       "    <tr>\n",
       "      <th>3</th>\n",
       "      <td>MSFT210115C00065000</td>\n",
       "      <td>65.0</td>\n",
       "      <td>160.44</td>\n",
       "      <td>152.50</td>\n",
       "      <td>153.75</td>\n",
       "      <td>5.101566</td>\n",
       "      <td>2021-01-16</td>\n",
       "      <td>4</td>\n",
       "      <td>153.125</td>\n",
       "    </tr>\n",
       "    <tr>\n",
       "      <th>4</th>\n",
       "      <td>MSFT210115C00070000</td>\n",
       "      <td>70.0</td>\n",
       "      <td>148.13</td>\n",
       "      <td>147.70</td>\n",
       "      <td>148.55</td>\n",
       "      <td>4.484379</td>\n",
       "      <td>2021-01-16</td>\n",
       "      <td>4</td>\n",
       "      <td>148.125</td>\n",
       "    </tr>\n",
       "  </tbody>\n",
       "</table>\n",
       "</div>"
      ],
      "text/plain": [
       "        contractSymbol  strike  lastPrice     bid     ask  impliedVolatility  \\\n",
       "0  MSFT210115C00050000    50.0     168.05  168.05  168.25           4.484379   \n",
       "1  MSFT210115C00055000    55.0     168.35  163.05  163.25           4.203130   \n",
       "2  MSFT210115C00060000    60.0     157.18  158.05  158.25           3.937500   \n",
       "3  MSFT210115C00065000    65.0     160.44  152.50  153.75           5.101566   \n",
       "4  MSFT210115C00070000    70.0     148.13  147.70  148.55           4.484379   \n",
       "\n",
       "  expirationDate  dte    midpt  \n",
       "0     2021-01-16    4  168.150  \n",
       "1     2021-01-16    4  163.150  \n",
       "2     2021-01-16    4  158.150  \n",
       "3     2021-01-16    4  153.125  \n",
       "4     2021-01-16    4  148.125  "
      ]
     },
     "execution_count": 9,
     "metadata": {},
     "output_type": "execute_result"
    }
   ],
   "source": [
    "opt.head()"
   ]
  },
  {
   "cell_type": "markdown",
   "metadata": {},
   "source": [
    "## Black Scholes Est."
   ]
  },
  {
   "cell_type": "code",
   "execution_count": 10,
   "metadata": {},
   "outputs": [],
   "source": [
    "# S is the spot price \n",
    "# K is the strike price \n",
    "# T is the fraction of days to strike date divided by 252 (stock market days)\n",
    "# r is the risk free rate\n",
    "# sigma is the annual volatility of the returns of the stock \n",
    "\n",
    "def black_scholes(S, K, T, r, sigma):\n",
    "    d1 = np.log(S/(K/(1 + r)**T)/(sigma*sqrt(T))) + (sigma*sqrt(T))/2\n",
    "    d2 = d1 - sigma * np.sqrt(T)\n",
    "    return S * norm.cdf(d1) - (K/(1 + r)**T) * norm.cdf(d2)"
   ]
  },
  {
   "cell_type": "code",
   "execution_count": 11,
   "metadata": {},
   "outputs": [],
   "source": [
    "iv = len(opt)\n",
    "iv_list=[1]*iv\n",
    "opt['iv_list']=iv_list"
   ]
  },
  {
   "cell_type": "code",
   "execution_count": 12,
   "metadata": {},
   "outputs": [
    {
     "name": "stdout",
     "output_type": "stream",
     "text": [
      "168.03527193146442\n"
     ]
    }
   ],
   "source": [
    "samp = black_scholes(opt['lastPrice'][0],55,opt['dte'][0],r,opt['impliedVolatility'][0])\n",
    "print(samp)"
   ]
  },
  {
   "cell_type": "code",
   "execution_count": 13,
   "metadata": {},
   "outputs": [],
   "source": [
    "# samp\n",
    "# create a list for the bS and add it to df\n",
    "bS=[]\n",
    "for x in range(len(opt)):\n",
    "    bS.append(black_scholes(opt['lastPrice'][x],opt['strike'][x],opt['dte'][x],r,opt['impliedVolatility'][x]))"
   ]
  },
  {
   "cell_type": "code",
   "execution_count": 14,
   "metadata": {},
   "outputs": [],
   "source": [
    "# bS\n",
    "opt['bS']=bS"
   ]
  },
  {
   "cell_type": "code",
   "execution_count": 15,
   "metadata": {},
   "outputs": [
    {
     "data": {
      "text/html": [
       "<div>\n",
       "<style scoped>\n",
       "    .dataframe tbody tr th:only-of-type {\n",
       "        vertical-align: middle;\n",
       "    }\n",
       "\n",
       "    .dataframe tbody tr th {\n",
       "        vertical-align: top;\n",
       "    }\n",
       "\n",
       "    .dataframe thead th {\n",
       "        text-align: right;\n",
       "    }\n",
       "</style>\n",
       "<table border=\"1\" class=\"dataframe\">\n",
       "  <thead>\n",
       "    <tr style=\"text-align: right;\">\n",
       "      <th></th>\n",
       "      <th>contractSymbol</th>\n",
       "      <th>strike</th>\n",
       "      <th>lastPrice</th>\n",
       "      <th>bid</th>\n",
       "      <th>ask</th>\n",
       "      <th>impliedVolatility</th>\n",
       "      <th>expirationDate</th>\n",
       "      <th>dte</th>\n",
       "      <th>midpt</th>\n",
       "      <th>iv_list</th>\n",
       "      <th>bS</th>\n",
       "    </tr>\n",
       "  </thead>\n",
       "  <tbody>\n",
       "    <tr>\n",
       "      <th>0</th>\n",
       "      <td>MSFT210115C00050000</td>\n",
       "      <td>50.0</td>\n",
       "      <td>168.05</td>\n",
       "      <td>168.05</td>\n",
       "      <td>168.25</td>\n",
       "      <td>4.484379</td>\n",
       "      <td>2021-01-16</td>\n",
       "      <td>4</td>\n",
       "      <td>168.150</td>\n",
       "      <td>1</td>\n",
       "      <td>168.039971</td>\n",
       "    </tr>\n",
       "    <tr>\n",
       "      <th>1</th>\n",
       "      <td>MSFT210115C00055000</td>\n",
       "      <td>55.0</td>\n",
       "      <td>168.35</td>\n",
       "      <td>163.05</td>\n",
       "      <td>163.25</td>\n",
       "      <td>4.203130</td>\n",
       "      <td>2021-01-16</td>\n",
       "      <td>4</td>\n",
       "      <td>163.150</td>\n",
       "      <td>1</td>\n",
       "      <td>168.315987</td>\n",
       "    </tr>\n",
       "    <tr>\n",
       "      <th>2</th>\n",
       "      <td>MSFT210115C00060000</td>\n",
       "      <td>60.0</td>\n",
       "      <td>157.18</td>\n",
       "      <td>158.05</td>\n",
       "      <td>158.25</td>\n",
       "      <td>3.937500</td>\n",
       "      <td>2021-01-16</td>\n",
       "      <td>4</td>\n",
       "      <td>158.150</td>\n",
       "      <td>1</td>\n",
       "      <td>157.064823</td>\n",
       "    </tr>\n",
       "    <tr>\n",
       "      <th>3</th>\n",
       "      <td>MSFT210115C00065000</td>\n",
       "      <td>65.0</td>\n",
       "      <td>160.44</td>\n",
       "      <td>152.50</td>\n",
       "      <td>153.75</td>\n",
       "      <td>5.101566</td>\n",
       "      <td>2021-01-16</td>\n",
       "      <td>4</td>\n",
       "      <td>153.125</td>\n",
       "      <td>1</td>\n",
       "      <td>160.435470</td>\n",
       "    </tr>\n",
       "    <tr>\n",
       "      <th>4</th>\n",
       "      <td>MSFT210115C00070000</td>\n",
       "      <td>70.0</td>\n",
       "      <td>148.13</td>\n",
       "      <td>147.70</td>\n",
       "      <td>148.55</td>\n",
       "      <td>4.484379</td>\n",
       "      <td>2021-01-16</td>\n",
       "      <td>4</td>\n",
       "      <td>148.125</td>\n",
       "      <td>1</td>\n",
       "      <td>148.077269</td>\n",
       "    </tr>\n",
       "  </tbody>\n",
       "</table>\n",
       "</div>"
      ],
      "text/plain": [
       "        contractSymbol  strike  lastPrice     bid     ask  impliedVolatility  \\\n",
       "0  MSFT210115C00050000    50.0     168.05  168.05  168.25           4.484379   \n",
       "1  MSFT210115C00055000    55.0     168.35  163.05  163.25           4.203130   \n",
       "2  MSFT210115C00060000    60.0     157.18  158.05  158.25           3.937500   \n",
       "3  MSFT210115C00065000    65.0     160.44  152.50  153.75           5.101566   \n",
       "4  MSFT210115C00070000    70.0     148.13  147.70  148.55           4.484379   \n",
       "\n",
       "  expirationDate  dte    midpt  iv_list          bS  \n",
       "0     2021-01-16    4  168.150        1  168.039971  \n",
       "1     2021-01-16    4  163.150        1  168.315987  \n",
       "2     2021-01-16    4  158.150        1  157.064823  \n",
       "3     2021-01-16    4  153.125        1  160.435470  \n",
       "4     2021-01-16    4  148.125        1  148.077269  "
      ]
     },
     "execution_count": 15,
     "metadata": {},
     "output_type": "execute_result"
    }
   ],
   "source": [
    "opt.head()"
   ]
  },
  {
   "cell_type": "code",
   "execution_count": 16,
   "metadata": {},
   "outputs": [],
   "source": [
    "# get percentage change\n",
    "error_=[]\n",
    "for x in range(len(opt)):\n",
    "    try:\n",
    "        error_.append(((opt['bS'][x]-opt['lastPrice'][x])/opt['lastPrice'][x]))\n",
    "    except:\n",
    "#         error_.append('nan')\n",
    "        continue\n",
    "opt['error'] = error_"
   ]
  },
  {
   "cell_type": "code",
   "execution_count": 17,
   "metadata": {
    "scrolled": true
   },
   "outputs": [
    {
     "data": {
      "text/html": [
       "<div>\n",
       "<style scoped>\n",
       "    .dataframe tbody tr th:only-of-type {\n",
       "        vertical-align: middle;\n",
       "    }\n",
       "\n",
       "    .dataframe tbody tr th {\n",
       "        vertical-align: top;\n",
       "    }\n",
       "\n",
       "    .dataframe thead th {\n",
       "        text-align: right;\n",
       "    }\n",
       "</style>\n",
       "<table border=\"1\" class=\"dataframe\">\n",
       "  <thead>\n",
       "    <tr style=\"text-align: right;\">\n",
       "      <th></th>\n",
       "      <th>contractSymbol</th>\n",
       "      <th>strike</th>\n",
       "      <th>lastPrice</th>\n",
       "      <th>bid</th>\n",
       "      <th>ask</th>\n",
       "      <th>impliedVolatility</th>\n",
       "      <th>expirationDate</th>\n",
       "      <th>dte</th>\n",
       "      <th>midpt</th>\n",
       "      <th>iv_list</th>\n",
       "      <th>bS</th>\n",
       "      <th>error</th>\n",
       "    </tr>\n",
       "  </thead>\n",
       "  <tbody>\n",
       "    <tr>\n",
       "      <th>0</th>\n",
       "      <td>MSFT210115C00050000</td>\n",
       "      <td>50.0</td>\n",
       "      <td>168.05</td>\n",
       "      <td>168.05</td>\n",
       "      <td>168.25</td>\n",
       "      <td>4.484379</td>\n",
       "      <td>2021-01-16</td>\n",
       "      <td>4</td>\n",
       "      <td>168.150</td>\n",
       "      <td>1</td>\n",
       "      <td>168.039971</td>\n",
       "      <td>-0.000060</td>\n",
       "    </tr>\n",
       "    <tr>\n",
       "      <th>1</th>\n",
       "      <td>MSFT210115C00055000</td>\n",
       "      <td>55.0</td>\n",
       "      <td>168.35</td>\n",
       "      <td>163.05</td>\n",
       "      <td>163.25</td>\n",
       "      <td>4.203130</td>\n",
       "      <td>2021-01-16</td>\n",
       "      <td>4</td>\n",
       "      <td>163.150</td>\n",
       "      <td>1</td>\n",
       "      <td>168.315987</td>\n",
       "      <td>-0.000202</td>\n",
       "    </tr>\n",
       "    <tr>\n",
       "      <th>2</th>\n",
       "      <td>MSFT210115C00060000</td>\n",
       "      <td>60.0</td>\n",
       "      <td>157.18</td>\n",
       "      <td>158.05</td>\n",
       "      <td>158.25</td>\n",
       "      <td>3.937500</td>\n",
       "      <td>2021-01-16</td>\n",
       "      <td>4</td>\n",
       "      <td>158.150</td>\n",
       "      <td>1</td>\n",
       "      <td>157.064823</td>\n",
       "      <td>-0.000733</td>\n",
       "    </tr>\n",
       "    <tr>\n",
       "      <th>3</th>\n",
       "      <td>MSFT210115C00065000</td>\n",
       "      <td>65.0</td>\n",
       "      <td>160.44</td>\n",
       "      <td>152.50</td>\n",
       "      <td>153.75</td>\n",
       "      <td>5.101566</td>\n",
       "      <td>2021-01-16</td>\n",
       "      <td>4</td>\n",
       "      <td>153.125</td>\n",
       "      <td>1</td>\n",
       "      <td>160.435470</td>\n",
       "      <td>-0.000028</td>\n",
       "    </tr>\n",
       "    <tr>\n",
       "      <th>4</th>\n",
       "      <td>MSFT210115C00070000</td>\n",
       "      <td>70.0</td>\n",
       "      <td>148.13</td>\n",
       "      <td>147.70</td>\n",
       "      <td>148.55</td>\n",
       "      <td>4.484379</td>\n",
       "      <td>2021-01-16</td>\n",
       "      <td>4</td>\n",
       "      <td>148.125</td>\n",
       "      <td>1</td>\n",
       "      <td>148.077269</td>\n",
       "      <td>-0.000356</td>\n",
       "    </tr>\n",
       "  </tbody>\n",
       "</table>\n",
       "</div>"
      ],
      "text/plain": [
       "        contractSymbol  strike  lastPrice     bid     ask  impliedVolatility  \\\n",
       "0  MSFT210115C00050000    50.0     168.05  168.05  168.25           4.484379   \n",
       "1  MSFT210115C00055000    55.0     168.35  163.05  163.25           4.203130   \n",
       "2  MSFT210115C00060000    60.0     157.18  158.05  158.25           3.937500   \n",
       "3  MSFT210115C00065000    65.0     160.44  152.50  153.75           5.101566   \n",
       "4  MSFT210115C00070000    70.0     148.13  147.70  148.55           4.484379   \n",
       "\n",
       "  expirationDate  dte    midpt  iv_list          bS     error  \n",
       "0     2021-01-16    4  168.150        1  168.039971 -0.000060  \n",
       "1     2021-01-16    4  163.150        1  168.315987 -0.000202  \n",
       "2     2021-01-16    4  158.150        1  157.064823 -0.000733  \n",
       "3     2021-01-16    4  153.125        1  160.435470 -0.000028  \n",
       "4     2021-01-16    4  148.125        1  148.077269 -0.000356  "
      ]
     },
     "execution_count": 17,
     "metadata": {},
     "output_type": "execute_result"
    }
   ],
   "source": [
    "opt.head()"
   ]
  },
  {
   "cell_type": "code",
   "execution_count": 18,
   "metadata": {},
   "outputs": [],
   "source": [
    "df_plt=opt[['contractSymbol','error']].copy()"
   ]
  },
  {
   "cell_type": "code",
   "execution_count": 19,
   "metadata": {},
   "outputs": [],
   "source": [
    "df_plt.to_csv('df_plt.csv')"
   ]
  },
  {
   "cell_type": "code",
   "execution_count": 20,
   "metadata": {},
   "outputs": [],
   "source": [
    "df_plt.set_index('contractSymbol',inplace=True)"
   ]
  },
  {
   "cell_type": "code",
   "execution_count": 21,
   "metadata": {},
   "outputs": [],
   "source": [
    "# edit df to remove tradeless price days\n",
    "# 577-578\n",
    "e=745-578\n",
    "df_plt = df_plt.iloc[:232]"
   ]
  },
  {
   "cell_type": "code",
   "execution_count": 22,
   "metadata": {},
   "outputs": [
    {
     "data": {
      "text/html": [
       "<div>\n",
       "<style scoped>\n",
       "    .dataframe tbody tr th:only-of-type {\n",
       "        vertical-align: middle;\n",
       "    }\n",
       "\n",
       "    .dataframe tbody tr th {\n",
       "        vertical-align: top;\n",
       "    }\n",
       "\n",
       "    .dataframe thead th {\n",
       "        text-align: right;\n",
       "    }\n",
       "</style>\n",
       "<table border=\"1\" class=\"dataframe\">\n",
       "  <thead>\n",
       "    <tr style=\"text-align: right;\">\n",
       "      <th></th>\n",
       "      <th>error</th>\n",
       "    </tr>\n",
       "    <tr>\n",
       "      <th>contractSymbol</th>\n",
       "      <th></th>\n",
       "    </tr>\n",
       "  </thead>\n",
       "  <tbody>\n",
       "    <tr>\n",
       "      <th>MSFT210219C00305000</th>\n",
       "      <td>-0.999991</td>\n",
       "    </tr>\n",
       "    <tr>\n",
       "      <th>MSFT210219C00310000</th>\n",
       "      <td>-0.999987</td>\n",
       "    </tr>\n",
       "    <tr>\n",
       "      <th>MSFT210219C00315000</th>\n",
       "      <td>-0.999995</td>\n",
       "    </tr>\n",
       "    <tr>\n",
       "      <th>MSFT210219C00320000</th>\n",
       "      <td>-1.000000</td>\n",
       "    </tr>\n",
       "    <tr>\n",
       "      <th>MSFT210219C00325000</th>\n",
       "      <td>-1.000000</td>\n",
       "    </tr>\n",
       "  </tbody>\n",
       "</table>\n",
       "</div>"
      ],
      "text/plain": [
       "                        error\n",
       "contractSymbol               \n",
       "MSFT210219C00305000 -0.999991\n",
       "MSFT210219C00310000 -0.999987\n",
       "MSFT210219C00315000 -0.999995\n",
       "MSFT210219C00320000 -1.000000\n",
       "MSFT210219C00325000 -1.000000"
      ]
     },
     "execution_count": 22,
     "metadata": {},
     "output_type": "execute_result"
    }
   ],
   "source": [
    "df_plt.tail()"
   ]
  },
  {
   "cell_type": "code",
   "execution_count": 23,
   "metadata": {},
   "outputs": [],
   "source": [
    "df_plt.to_csv('df_plt_again.csv')"
   ]
  },
  {
   "cell_type": "code",
   "execution_count": 24,
   "metadata": {},
   "outputs": [
    {
     "data": {
      "text/plain": [
       "<AxesSubplot:xlabel='contractSymbol', ylabel='error'>"
      ]
     },
     "execution_count": 24,
     "metadata": {},
     "output_type": "execute_result"
    },
    {
     "data": {
      "image/png": "[encoded data removed]",
      "text/plain": [
       "<Figure size 1080x720 with 1 Axes>"
      ]
     },
     "metadata": {
      "needs_background": "light"
     },
     "output_type": "display_data"
    }
   ],
   "source": [
    "# plottin\n",
    "# df_plt.plot(figsize=(10,10))\n",
    "plt.figure(figsize=(15,10))\n",
    "#plt.xticks(rotation='vertical')\n",
    "sns.lineplot(data=df_plt, x=\"contractSymbol\", y=\"error\")"
   ]
  },
  {
   "cell_type": "markdown",
   "metadata": {},
   "source": [
    "## ANN"
   ]
  },
  {
   "cell_type": "code",
   "execution_count": 25,
   "metadata": {},
   "outputs": [],
   "source": [
    "# fresh libs for the ann\n",
    "from keras.models import Sequential\n",
    "from keras.layers import Dense, Dropout, Activation, LeakyReLU\n",
    "from keras import backend"
   ]
  },
  {
   "cell_type": "code",
   "execution_count": 26,
   "metadata": {},
   "outputs": [],
   "source": [
    "n=len(opt)\n",
    "r_list = [0.09] * n\n",
    "# r_list\n",
    "opt['r_list']=r_list\n"
   ]
  },
  {
   "cell_type": "code",
   "execution_count": 27,
   "metadata": {},
   "outputs": [],
   "source": [
    "# set up fresh df with the same cols as Culkin and Das\n",
    "'''\n",
    "    Stock Price\n",
    "    Strike Price\n",
    "    Maturity\n",
    "    Volatility\n",
    "    Risk-Free\n",
    "    Call Price\n",
    "'''\n",
    "anndf=opt[['lastPrice','strike','dte','impliedVolatility','r_list','bS']].copy()\n",
    "anndf = anndf.rename(columns={'lastPrice': 'StockPrice', 'strike': 'StrikePrice', 'dte':'Maturity', 'impliedVolatility':'Volatility', 'r_list':'RiskFree','bS':'CallPrice'})"
   ]
  },
  {
   "cell_type": "code",
   "execution_count": 28,
   "metadata": {},
   "outputs": [
    {
     "data": {
      "text/html": [
       "<div>\n",
       "<style scoped>\n",
       "    .dataframe tbody tr th:only-of-type {\n",
       "        vertical-align: middle;\n",
       "    }\n",
       "\n",
       "    .dataframe tbody tr th {\n",
       "        vertical-align: top;\n",
       "    }\n",
       "\n",
       "    .dataframe thead th {\n",
       "        text-align: right;\n",
       "    }\n",
       "</style>\n",
       "<table border=\"1\" class=\"dataframe\">\n",
       "  <thead>\n",
       "    <tr style=\"text-align: right;\">\n",
       "      <th></th>\n",
       "      <th>StockPrice</th>\n",
       "      <th>StrikePrice</th>\n",
       "      <th>Maturity</th>\n",
       "      <th>Volatility</th>\n",
       "      <th>RiskFree</th>\n",
       "      <th>CallPrice</th>\n",
       "    </tr>\n",
       "  </thead>\n",
       "  <tbody>\n",
       "    <tr>\n",
       "      <th>0</th>\n",
       "      <td>168.05</td>\n",
       "      <td>50.0</td>\n",
       "      <td>4</td>\n",
       "      <td>4.484379</td>\n",
       "      <td>0.09</td>\n",
       "      <td>168.039971</td>\n",
       "    </tr>\n",
       "    <tr>\n",
       "      <th>1</th>\n",
       "      <td>168.35</td>\n",
       "      <td>55.0</td>\n",
       "      <td>4</td>\n",
       "      <td>4.203130</td>\n",
       "      <td>0.09</td>\n",
       "      <td>168.315987</td>\n",
       "    </tr>\n",
       "    <tr>\n",
       "      <th>2</th>\n",
       "      <td>157.18</td>\n",
       "      <td>60.0</td>\n",
       "      <td>4</td>\n",
       "      <td>3.937500</td>\n",
       "      <td>0.09</td>\n",
       "      <td>157.064823</td>\n",
       "    </tr>\n",
       "    <tr>\n",
       "      <th>3</th>\n",
       "      <td>160.44</td>\n",
       "      <td>65.0</td>\n",
       "      <td>4</td>\n",
       "      <td>5.101566</td>\n",
       "      <td>0.09</td>\n",
       "      <td>160.435470</td>\n",
       "    </tr>\n",
       "    <tr>\n",
       "      <th>4</th>\n",
       "      <td>148.13</td>\n",
       "      <td>70.0</td>\n",
       "      <td>4</td>\n",
       "      <td>4.484379</td>\n",
       "      <td>0.09</td>\n",
       "      <td>148.077269</td>\n",
       "    </tr>\n",
       "  </tbody>\n",
       "</table>\n",
       "</div>"
      ],
      "text/plain": [
       "   StockPrice  StrikePrice  Maturity  Volatility  RiskFree   CallPrice\n",
       "0      168.05         50.0         4    4.484379      0.09  168.039971\n",
       "1      168.35         55.0         4    4.203130      0.09  168.315987\n",
       "2      157.18         60.0         4    3.937500      0.09  157.064823\n",
       "3      160.44         65.0         4    5.101566      0.09  160.435470\n",
       "4      148.13         70.0         4    4.484379      0.09  148.077269"
      ]
     },
     "execution_count": 28,
     "metadata": {},
     "output_type": "execute_result"
    }
   ],
   "source": [
    "anndf.head()"
   ]
  },
  {
   "cell_type": "code",
   "execution_count": 29,
   "metadata": {},
   "outputs": [],
   "source": [
    "## Normalize the data exploiting the fact that the BS Model is linear homogenous in S,K\n",
    "anndf[\"StockPrice\"] = anndf[\"StockPrice\"]/anndf[\"StrikePrice\"]\n",
    "anndf[\"CallPrice\"] = anndf[\"CallPrice\"]/anndf[\"StrikePrice\"]"
   ]
  },
  {
   "cell_type": "code",
   "execution_count": 30,
   "metadata": {},
   "outputs": [
    {
     "data": {
      "text/html": [
       "<div>\n",
       "<style scoped>\n",
       "    .dataframe tbody tr th:only-of-type {\n",
       "        vertical-align: middle;\n",
       "    }\n",
       "\n",
       "    .dataframe tbody tr th {\n",
       "        vertical-align: top;\n",
       "    }\n",
       "\n",
       "    .dataframe thead th {\n",
       "        text-align: right;\n",
       "    }\n",
       "</style>\n",
       "<table border=\"1\" class=\"dataframe\">\n",
       "  <thead>\n",
       "    <tr style=\"text-align: right;\">\n",
       "      <th></th>\n",
       "      <th>StockPrice</th>\n",
       "      <th>StrikePrice</th>\n",
       "      <th>Maturity</th>\n",
       "      <th>Volatility</th>\n",
       "      <th>RiskFree</th>\n",
       "      <th>CallPrice</th>\n",
       "    </tr>\n",
       "  </thead>\n",
       "  <tbody>\n",
       "    <tr>\n",
       "      <th>0</th>\n",
       "      <td>3.361000</td>\n",
       "      <td>50.0</td>\n",
       "      <td>4</td>\n",
       "      <td>4.484379</td>\n",
       "      <td>0.09</td>\n",
       "      <td>3.360799</td>\n",
       "    </tr>\n",
       "    <tr>\n",
       "      <th>1</th>\n",
       "      <td>3.060909</td>\n",
       "      <td>55.0</td>\n",
       "      <td>4</td>\n",
       "      <td>4.203130</td>\n",
       "      <td>0.09</td>\n",
       "      <td>3.060291</td>\n",
       "    </tr>\n",
       "    <tr>\n",
       "      <th>2</th>\n",
       "      <td>2.619667</td>\n",
       "      <td>60.0</td>\n",
       "      <td>4</td>\n",
       "      <td>3.937500</td>\n",
       "      <td>0.09</td>\n",
       "      <td>2.617747</td>\n",
       "    </tr>\n",
       "    <tr>\n",
       "      <th>3</th>\n",
       "      <td>2.468308</td>\n",
       "      <td>65.0</td>\n",
       "      <td>4</td>\n",
       "      <td>5.101566</td>\n",
       "      <td>0.09</td>\n",
       "      <td>2.468238</td>\n",
       "    </tr>\n",
       "    <tr>\n",
       "      <th>4</th>\n",
       "      <td>2.116143</td>\n",
       "      <td>70.0</td>\n",
       "      <td>4</td>\n",
       "      <td>4.484379</td>\n",
       "      <td>0.09</td>\n",
       "      <td>2.115390</td>\n",
       "    </tr>\n",
       "  </tbody>\n",
       "</table>\n",
       "</div>"
      ],
      "text/plain": [
       "   StockPrice  StrikePrice  Maturity  Volatility  RiskFree  CallPrice\n",
       "0    3.361000         50.0         4    4.484379      0.09   3.360799\n",
       "1    3.060909         55.0         4    4.203130      0.09   3.060291\n",
       "2    2.619667         60.0         4    3.937500      0.09   2.617747\n",
       "3    2.468308         65.0         4    5.101566      0.09   2.468238\n",
       "4    2.116143         70.0         4    4.484379      0.09   2.115390"
      ]
     },
     "execution_count": 30,
     "metadata": {},
     "output_type": "execute_result"
    }
   ],
   "source": [
    "anndf.head()"
   ]
  },
  {
   "cell_type": "markdown",
   "metadata": {},
   "source": [
    "Before feeding the data into TensorFlow, we set it up appropriately into training (80%) and testing data (20%) sets."
   ]
  },
  {
   "cell_type": "code",
   "execution_count": 31,
   "metadata": {},
   "outputs": [
    {
     "data": {
      "text/plain": [
       "745"
      ]
     },
     "execution_count": 31,
     "metadata": {},
     "output_type": "execute_result"
    }
   ],
   "source": [
    "len(anndf)"
   ]
  },
  {
   "cell_type": "code",
   "execution_count": 37,
   "metadata": {},
   "outputs": [],
   "source": [
    "anndf=anndf. dropna()"
   ]
  },
  {
   "cell_type": "code",
   "execution_count": 38,
   "metadata": {},
   "outputs": [
    {
     "data": {
      "text/plain": [
       "745"
      ]
     },
     "execution_count": 38,
     "metadata": {},
     "output_type": "execute_result"
    }
   ],
   "source": [
    "len(anndf)"
   ]
  },
  {
   "cell_type": "code",
   "execution_count": 32,
   "metadata": {},
   "outputs": [],
   "source": [
    "n = len(anndf)\n",
    "n_train =  (int)(0.8 * n)\n",
    "train = anndf[0:n_train]\n",
    "X_train = train[['StockPrice', 'Maturity', 'Volatility', 'RiskFree']].values\n",
    "y_train = train['CallPrice'].values\n",
    "test = anndf[n_train+1:n]\n",
    "X_test = test[['StockPrice', 'Maturity', 'Volatility', 'RiskFree']].values\n",
    "y_test = test['CallPrice'].values"
   ]
  },
  {
   "cell_type": "markdown",
   "metadata": {},
   "source": [
    "Because the model aims to produce a positive continuous value for the option price, we cannot use the standard squashing functions that are used in TensorFlow, such as the sigmoid function. These functions emit values in the range (0,1) and are not suitable for the range (0,∞), which is what we require. Therefore, we need to build our own output node functions, which is shown as a new python function in the following code block. The exponential function is used because it returns positive-only values"
   ]
  },
  {
   "cell_type": "code",
   "execution_count": 33,
   "metadata": {},
   "outputs": [],
   "source": [
    "def custom_activation(x):\n",
    "    return backend.exp(x)"
   ]
  },
  {
   "cell_type": "markdown",
   "metadata": {},
   "source": [
    "The  details  of  the  deep  learning  net  are  as  follows.   \n",
    "The  size  of  the  input  is  5 parameters.   \n",
    "These  are  passed  through  4  hidden  layers  of  120  neurons  each.   \n",
    "The neurons at each layer are chosen based on different “activation” functions that are respectively  the  following:  \n",
    "- LeakyReLU,  \n",
    "- ELU,  \n",
    "- ReLU,  \n",
    "- ELU.  \n",
    "\n",
    "The  final  output  layer comprises a single output neuron which we set to be the standard exponential function exp() because we need the output of the neural net to be non-negative with certainty, as option prices cannot take negative values.\n",
    "We  chose  some  simple  “hyper-parameters”  for  the  deep  learning  net.   \n",
    "At  each hidden layer we used a dropout rate of 25% so as to ameliorate overfitting.  \n",
    "The loss function  used  for  optimization  is  mean-squared  error  (MSE)  and  we  implemented a batch size of 64,  with 10 epochs.  \n",
    "The entire exercise results in fitting a total of 31,101  coefficients  (weights)  for  the  deep  learning  model. "
   ]
  },
  {
   "cell_type": "code",
   "execution_count": 39,
   "metadata": {},
   "outputs": [],
   "source": [
    "nodes = 100\n",
    "model = Sequential()\n",
    "\n",
    "model.add(Dense(nodes, input_dim=X_train.shape[1]))\n",
    "model.add(LeakyReLU())\n",
    "model.add(Dropout(0.25))\n",
    "\n",
    "model.add(Dense(nodes, activation='elu'))\n",
    "model.add(Dropout(0.25))\n",
    "\n",
    "model.add(Dense(nodes, activation='relu'))\n",
    "model.add(Dropout(0.25))\n",
    "\n",
    "model.add(Dense(nodes, activation='elu'))\n",
    "model.add(Dropout(0.25))\n",
    "\n",
    "model.add(Dense(1))\n",
    "model.add(Activation(custom_activation))\n",
    "\n",
    "model.compile(loss='mse',optimizer='rmsprop')"
   ]
  },
  {
   "cell_type": "markdown",
   "metadata": {},
   "source": [
    "We can then run the fitting method to calibrate the model by using loss function MSE. We used 10 epochs."
   ]
  },
  {
   "cell_type": "code",
   "execution_count": 43,
   "metadata": {},
   "outputs": [
    {
     "name": "stdout",
     "output_type": "stream",
     "text": [
      "Epoch 1/10\n",
      "9/9 - 0s - loss: 0.2533 - val_loss: 0.3374\n",
      "Epoch 2/10\n",
      "9/9 - 0s - loss: 0.2481 - val_loss: 0.3374\n",
      "Epoch 3/10\n",
      "9/9 - 0s - loss: 0.2845 - val_loss: 0.3374\n",
      "Epoch 4/10\n",
      "9/9 - 0s - loss: 0.3214 - val_loss: 0.3374\n",
      "Epoch 5/10\n",
      "9/9 - 0s - loss: 0.2481 - val_loss: 0.3374\n",
      "Epoch 6/10\n",
      "9/9 - 0s - loss: 0.2620 - val_loss: 0.3374\n",
      "Epoch 7/10\n",
      "9/9 - 0s - loss: 0.2615 - val_loss: 0.3374\n",
      "Epoch 8/10\n",
      "9/9 - 0s - loss: 0.2430 - val_loss: 0.3374\n",
      "Epoch 9/10\n",
      "9/9 - 0s - loss: 0.2629 - val_loss: 0.3374\n",
      "Epoch 10/10\n",
      "9/9 - 0s - loss: 0.2939 - val_loss: 0.3374\n"
     ]
    },
    {
     "data": {
      "text/plain": [
       "<tensorflow.python.keras.callbacks.History at 0x7f79bc29efd0>"
      ]
     },
     "execution_count": 43,
     "metadata": {},
     "output_type": "execute_result"
    }
   ],
   "source": [
    "model.fit(X_train, y_train, batch_size=64, epochs=10, validation_split=0.1, verbose=2)"
   ]
  },
  {
   "cell_type": "markdown",
   "metadata": {},
   "source": [
    "We also define a special function to check the accuracy of the model. It generates several common statistics that we may find useful."
   ]
  },
  {
   "cell_type": "code",
   "execution_count": 46,
   "metadata": {},
   "outputs": [],
   "source": [
    "def CheckAccuracy(y,y_hat):\n",
    "    stats = dict()\n",
    "    \n",
    "    stats['diff'] = y - y_hat\n",
    "    \n",
    "    stats['mse'] = mean(stats['diff']**2)\n",
    "    print(\"Mean Squared Error:      \", stats['mse'])\n",
    "    \n",
    "    stats['rmse'] = sqrt(stats['mse'])\n",
    "    print(\"Root Mean Squared Error: \", stats['rmse'])\n",
    "    \n",
    "    stats['mae'] = mean(abs(stats['diff']))\n",
    "    print(\"Mean Absolute Error:     \", stats['mae'])\n",
    "    \n",
    "    stats['mpe'] = sqrt(stats['mse'])/mean(y)\n",
    "    print(\"Mean Percent Error:      \", stats['mpe'])\n",
    "    \n",
    "    #plots\n",
    "    '''\n",
    "    plt.rcParams['agg.path.chunksize'] = 100000\n",
    "    plt.figure(figsize=(14,10))\n",
    "    plt.scatter(y, y_hat,color='black',linewidth=1,alpha=0.4, s=0.5)\n",
    "    plt.xlabel('Actual Price',fontsize=20)\n",
    "    plt.ylabel('Predicted Price',fontsize=20) \n",
    "    plt.show()\n",
    "    \n",
    "    plt.figure(figsize=(14,10))\n",
    "    plt.hist(stats['diff'], bins=50,edgecolor='black',color='white')\n",
    "    plt.xlabel('Diff')\n",
    "    plt.ylabel('Density')\n",
    "    plt.show()\n",
    "    '''\n",
    "    return stats"
   ]
  },
  {
   "cell_type": "code",
   "execution_count": 48,
   "metadata": {
    "scrolled": false
   },
   "outputs": [],
   "source": [
    "y_train_hat = model.predict(X_train)\n",
    "#reduce dim (240000,1) -> (240000,) to match y_train's dim\n",
    "y_train_hat = np.squeeze(y_train_hat)\n",
    "# CheckAccuracy(y_train, y_train_hat)"
   ]
  },
  {
   "cell_type": "markdown",
   "metadata": {},
   "source": [
    "https://srdas.github.io/DLBook/DeepLearningWithPython.html#option-pricing\n",
    "https://srdas.github.io/Papers/BlackScholesNN.pdf"
   ]
  },
  {
   "cell_type": "markdown",
   "metadata": {},
   "source": [
    "## LSTM"
   ]
  },
  {
   "cell_type": "markdown",
   "metadata": {},
   "source": [
    "https://towardsdatascience.com/stock-market-action-prediction-with-convnet-8689238feae3\n",
    "\n",
    "https://towardsdatascience.com/predicting-stock-price-with-lstm-13af86a74944"
   ]
  }
 ],
 "metadata": {
  "kernelspec": {
   "display_name": "Python 3",
   "language": "python",
   "name": "python3"
  },
  "language_info": {
   "codemirror_mode": {
    "name": "ipython",
    "version": 3
   },
   "file_extension": ".py",
   "mimetype": "text/x-python",
   "name": "python",
   "nbconvert_exporter": "python",
   "pygments_lexer": "ipython3",
   "version": "3.8.5"
  }
 },
 "nbformat": 4,
 "nbformat_minor": 4
}
